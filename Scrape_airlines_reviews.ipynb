{
  "nbformat": 4,
  "nbformat_minor": 0,
  "metadata": {
    "colab": {
      "provenance": [],
      "authorship_tag": "ABX9TyODCUdxdl7ivnnE2iKIYCxt"
    },
    "kernelspec": {
      "name": "python3",
      "display_name": "Python 3"
    },
    "language_info": {
      "name": "python"
    }
  },
  "cells": [
    {
      "cell_type": "code",
      "source": [
        "from bs4 import BeautifulSoup\n",
        "import pandas as pd\n",
        "import numpy as np\n",
        "import requests as rq\n",
        "import os"
      ],
      "metadata": {
        "id": "OsErjB_odgxQ"
      },
      "execution_count": 1,
      "outputs": []
    },
    {
      "cell_type": "code",
      "execution_count": 2,
      "metadata": {
        "id": "h-obPOMbcf27"
      },
      "outputs": [],
      "source": [
        "global rating, Aircraft, Class, Travel_type, Route, Date, comfort, staff, food, entertainment, wifi, ground_service, vfm, recommend\n",
        "\n",
        "verified=[]\n",
        "rating=[]\n",
        "feedback=[]\n",
        "Aircraft=[]\n",
        "Class=[]\n",
        "Travel_type=[]\n",
        "Route=[]\n",
        "Date=[]\n",
        "comfort=[]\n",
        "staff=[]\n",
        "food=[]\n",
        "entertainment=[]\n",
        "wifi=[]\n",
        "ground_service=[]\n",
        "vfm=[]\n",
        "recommend=[]"
      ]
    },
    {
      "cell_type": "code",
      "source": [
        "def value_fetcher(soup):\n",
        "    rating.append(np.nan)\n",
        "    Aircraft.append(np.nan)\n",
        "    Class.append(np.nan)\n",
        "    Travel_type.append(np.nan)\n",
        "    Route.append(np.nan)\n",
        "    Date.append(np.nan)\n",
        "    comfort.append(np.nan)\n",
        "    staff.append(np.nan)\n",
        "    food.append(np.nan)\n",
        "    entertainment.append(np.nan)\n",
        "    wifi.append(np.nan)\n",
        "    ground_service.append(np.nan)\n",
        "    vfm.append(np.nan)\n",
        "    recommend.append(np.nan)\n",
        "    \n",
        "    for row in soup.find_all('tr'):\n",
        "        header=row.find('td',class_='review-rating-header').text\n",
        "        value=row.find('td',class_='review-value')\n",
        "        if header=='Aircraft':\n",
        "            Aircraft[-1]=value.text\n",
        "        elif header=='Type Of Traveller':\n",
        "            Travel_type[-1]=value.text\n",
        "        elif header=='Seat Type':\n",
        "            Class[-1]=value.text\n",
        "        elif header=='Route':\n",
        "            Route[-1]=value.text\n",
        "        elif header=='Date Flown':\n",
        "            Date[-1]=value.text\n",
        "        elif header=='Seat Comfort':\n",
        "            comfort[-1]=len(row.find_all('span',class_='star fill'))\n",
        "        elif header=='Cabin Staff Service':\n",
        "            staff[-1]=len(row.find_all('span',class_='star fill'))\n",
        "        elif header=='Food & Beverages':\n",
        "            food[-1]=len(row.find_all('span',class_='star fill'))\n",
        "        elif header=='Inflight Entertainment':\n",
        "            entertainment[-1]=len(row.find_all('span',class_='star fill'))\n",
        "        elif header=='Ground Service':\n",
        "            ground_service[-1]=len(row.find_all('span',class_='star fill'))\n",
        "        elif header=='Value For Money':\n",
        "            vfm[-1]=len(row.find_all('span',class_='star fill'))\n",
        "        elif header=='Recommended':\n",
        "            recommend[-1]=value.text\n",
        "        elif header=='Wifi & Connectivity':\n",
        "            wifi[-1]=len(row.find_all('span',class_='star fill'))"
      ],
      "metadata": {
        "id": "P9MTJ4BzcnON"
      },
      "execution_count": 3,
      "outputs": []
    },
    {
      "cell_type": "code",
      "source": [
        "def fetcher(soup,tag,key,value):\n",
        "    if soup.find(tag,{key:value}):\n",
        "        return soup.find(tag,{key:value}).text\n",
        "    return np.nan"
      ],
      "metadata": {
        "id": "QzB3iYxEcqrM"
      },
      "execution_count": 4,
      "outputs": []
    },
    {
      "cell_type": "code",
      "source": [
        "print(\"The current working directory is\", os.getcwd())"
      ],
      "metadata": {
        "colab": {
          "base_uri": "https://localhost:8080/"
        },
        "id": "09KwZax-csyo",
        "outputId": "d74cdcec-e44c-4d4a-8828-5646538eef40"
      },
      "execution_count": 5,
      "outputs": [
        {
          "output_type": "stream",
          "name": "stdout",
          "text": [
            "The current working directory is /content\n"
          ]
        }
      ]
    },
    {
      "cell_type": "code",
      "source": [
        "for i in range(1,10):\n",
        "    url=f'https://www.airlinequality.com/airline-reviews/air-france/page/{i}/'\n",
        "    page=rq.get(url).text\n",
        "    soup=BeautifulSoup(page,'lxml')\n",
        "    articles= soup.find_all('article',{'itemprop':'review'})\n",
        "    for article in articles:\n",
        "        rating.append(fetcher(article,'span','itemprop','ratingValue'))\n",
        "        div=article.find('div',class_='tc_mobile')\n",
        "        content=(div.find('div',class_='text_content').text.split('|'))\n",
        "        if len(content)==2:\n",
        "            verification,review=content\n",
        "        else:\n",
        "            verification =np.nan\n",
        "            review=content[0]\n",
        "        verified.append(verification)\n",
        "        feedback.append(review)\n",
        "        table=div.find('table',class_='review-ratings')\n",
        "        value_fetcher(table)\n",
        "\n",
        "data_af=pd.DataFrame({'status':verified,'aircraft':Aircraft,'travel_type':Travel_type,'travel_class':Class,'route':Route,'date':Date,'seating_comfort':comfort,'staff_service':staff,'food_quality':food,'entertainment':entertainment,'wifi':wifi,'ground_service':ground_service,'value_for_money':vfm,'recommended':recommend,'overall_rating':rating[::2],'review':feedback})\n",
        "data_af.to_csv('airline/Air France.csv',index=False)"
      ],
      "metadata": {
        "id": "jlE5XQL3cuVa",
        "colab": {
          "base_uri": "https://localhost:8080/",
          "height": 396
        },
        "outputId": "59b92856-aeda-4ef0-cc7b-f7a4521ca3ae"
      },
      "execution_count": 6,
      "outputs": [
        {
          "output_type": "error",
          "ename": "FileNotFoundError",
          "evalue": "ignored",
          "traceback": [
            "\u001b[0;31m---------------------------------------------------------------------------\u001b[0m",
            "\u001b[0;31mFileNotFoundError\u001b[0m                         Traceback (most recent call last)",
            "\u001b[0;32m<ipython-input-6-38b7d6e4ddc5>\u001b[0m in \u001b[0;36m<module>\u001b[0;34m\u001b[0m\n\u001b[1;32m     19\u001b[0m \u001b[0;34m\u001b[0m\u001b[0m\n\u001b[1;32m     20\u001b[0m \u001b[0mdata_af\u001b[0m\u001b[0;34m=\u001b[0m\u001b[0mpd\u001b[0m\u001b[0;34m.\u001b[0m\u001b[0mDataFrame\u001b[0m\u001b[0;34m(\u001b[0m\u001b[0;34m{\u001b[0m\u001b[0;34m'status'\u001b[0m\u001b[0;34m:\u001b[0m\u001b[0mverified\u001b[0m\u001b[0;34m,\u001b[0m\u001b[0;34m'aircraft'\u001b[0m\u001b[0;34m:\u001b[0m\u001b[0mAircraft\u001b[0m\u001b[0;34m,\u001b[0m\u001b[0;34m'travel_type'\u001b[0m\u001b[0;34m:\u001b[0m\u001b[0mTravel_type\u001b[0m\u001b[0;34m,\u001b[0m\u001b[0;34m'travel_class'\u001b[0m\u001b[0;34m:\u001b[0m\u001b[0mClass\u001b[0m\u001b[0;34m,\u001b[0m\u001b[0;34m'route'\u001b[0m\u001b[0;34m:\u001b[0m\u001b[0mRoute\u001b[0m\u001b[0;34m,\u001b[0m\u001b[0;34m'date'\u001b[0m\u001b[0;34m:\u001b[0m\u001b[0mDate\u001b[0m\u001b[0;34m,\u001b[0m\u001b[0;34m'seating_comfort'\u001b[0m\u001b[0;34m:\u001b[0m\u001b[0mcomfort\u001b[0m\u001b[0;34m,\u001b[0m\u001b[0;34m'staff_service'\u001b[0m\u001b[0;34m:\u001b[0m\u001b[0mstaff\u001b[0m\u001b[0;34m,\u001b[0m\u001b[0;34m'food_quality'\u001b[0m\u001b[0;34m:\u001b[0m\u001b[0mfood\u001b[0m\u001b[0;34m,\u001b[0m\u001b[0;34m'entertainment'\u001b[0m\u001b[0;34m:\u001b[0m\u001b[0mentertainment\u001b[0m\u001b[0;34m,\u001b[0m\u001b[0;34m'wifi'\u001b[0m\u001b[0;34m:\u001b[0m\u001b[0mwifi\u001b[0m\u001b[0;34m,\u001b[0m\u001b[0;34m'ground_service'\u001b[0m\u001b[0;34m:\u001b[0m\u001b[0mground_service\u001b[0m\u001b[0;34m,\u001b[0m\u001b[0;34m'value_for_money'\u001b[0m\u001b[0;34m:\u001b[0m\u001b[0mvfm\u001b[0m\u001b[0;34m,\u001b[0m\u001b[0;34m'recommended'\u001b[0m\u001b[0;34m:\u001b[0m\u001b[0mrecommend\u001b[0m\u001b[0;34m,\u001b[0m\u001b[0;34m'overall_rating'\u001b[0m\u001b[0;34m:\u001b[0m\u001b[0mrating\u001b[0m\u001b[0;34m[\u001b[0m\u001b[0;34m:\u001b[0m\u001b[0;34m:\u001b[0m\u001b[0;36m2\u001b[0m\u001b[0;34m]\u001b[0m\u001b[0;34m,\u001b[0m\u001b[0;34m'review'\u001b[0m\u001b[0;34m:\u001b[0m\u001b[0mfeedback\u001b[0m\u001b[0;34m}\u001b[0m\u001b[0;34m)\u001b[0m\u001b[0;34m\u001b[0m\u001b[0;34m\u001b[0m\u001b[0m\n\u001b[0;32m---> 21\u001b[0;31m \u001b[0mdata_af\u001b[0m\u001b[0;34m.\u001b[0m\u001b[0mto_csv\u001b[0m\u001b[0;34m(\u001b[0m\u001b[0;34m'airline/Air France.csv'\u001b[0m\u001b[0;34m,\u001b[0m\u001b[0mindex\u001b[0m\u001b[0;34m=\u001b[0m\u001b[0;32mFalse\u001b[0m\u001b[0;34m)\u001b[0m\u001b[0;34m\u001b[0m\u001b[0;34m\u001b[0m\u001b[0m\n\u001b[0m",
            "\u001b[0;32m/usr/local/lib/python3.8/dist-packages/pandas/core/generic.py\u001b[0m in \u001b[0;36mto_csv\u001b[0;34m(self, path_or_buf, sep, na_rep, float_format, columns, header, index, index_label, mode, encoding, compression, quoting, quotechar, line_terminator, chunksize, date_format, doublequote, escapechar, decimal, errors, storage_options)\u001b[0m\n\u001b[1;32m   3464\u001b[0m         )\n\u001b[1;32m   3465\u001b[0m \u001b[0;34m\u001b[0m\u001b[0m\n\u001b[0;32m-> 3466\u001b[0;31m         return DataFrameRenderer(formatter).to_csv(\n\u001b[0m\u001b[1;32m   3467\u001b[0m             \u001b[0mpath_or_buf\u001b[0m\u001b[0;34m,\u001b[0m\u001b[0;34m\u001b[0m\u001b[0;34m\u001b[0m\u001b[0m\n\u001b[1;32m   3468\u001b[0m             \u001b[0mline_terminator\u001b[0m\u001b[0;34m=\u001b[0m\u001b[0mline_terminator\u001b[0m\u001b[0;34m,\u001b[0m\u001b[0;34m\u001b[0m\u001b[0;34m\u001b[0m\u001b[0m\n",
            "\u001b[0;32m/usr/local/lib/python3.8/dist-packages/pandas/io/formats/format.py\u001b[0m in \u001b[0;36mto_csv\u001b[0;34m(self, path_or_buf, encoding, sep, columns, index_label, mode, compression, quoting, quotechar, line_terminator, chunksize, date_format, doublequote, escapechar, errors, storage_options)\u001b[0m\n\u001b[1;32m   1103\u001b[0m             \u001b[0mformatter\u001b[0m\u001b[0;34m=\u001b[0m\u001b[0mself\u001b[0m\u001b[0;34m.\u001b[0m\u001b[0mfmt\u001b[0m\u001b[0;34m,\u001b[0m\u001b[0;34m\u001b[0m\u001b[0;34m\u001b[0m\u001b[0m\n\u001b[1;32m   1104\u001b[0m         )\n\u001b[0;32m-> 1105\u001b[0;31m         \u001b[0mcsv_formatter\u001b[0m\u001b[0;34m.\u001b[0m\u001b[0msave\u001b[0m\u001b[0;34m(\u001b[0m\u001b[0;34m)\u001b[0m\u001b[0;34m\u001b[0m\u001b[0;34m\u001b[0m\u001b[0m\n\u001b[0m\u001b[1;32m   1106\u001b[0m \u001b[0;34m\u001b[0m\u001b[0m\n\u001b[1;32m   1107\u001b[0m         \u001b[0;32mif\u001b[0m \u001b[0mcreated_buffer\u001b[0m\u001b[0;34m:\u001b[0m\u001b[0;34m\u001b[0m\u001b[0;34m\u001b[0m\u001b[0m\n",
            "\u001b[0;32m/usr/local/lib/python3.8/dist-packages/pandas/io/formats/csvs.py\u001b[0m in \u001b[0;36msave\u001b[0;34m(self)\u001b[0m\n\u001b[1;32m    235\u001b[0m         \"\"\"\n\u001b[1;32m    236\u001b[0m         \u001b[0;31m# apply compression and byte/text conversion\u001b[0m\u001b[0;34m\u001b[0m\u001b[0;34m\u001b[0m\u001b[0;34m\u001b[0m\u001b[0m\n\u001b[0;32m--> 237\u001b[0;31m         with get_handle(\n\u001b[0m\u001b[1;32m    238\u001b[0m             \u001b[0mself\u001b[0m\u001b[0;34m.\u001b[0m\u001b[0mfilepath_or_buffer\u001b[0m\u001b[0;34m,\u001b[0m\u001b[0;34m\u001b[0m\u001b[0;34m\u001b[0m\u001b[0m\n\u001b[1;32m    239\u001b[0m             \u001b[0mself\u001b[0m\u001b[0;34m.\u001b[0m\u001b[0mmode\u001b[0m\u001b[0;34m,\u001b[0m\u001b[0;34m\u001b[0m\u001b[0;34m\u001b[0m\u001b[0m\n",
            "\u001b[0;32m/usr/local/lib/python3.8/dist-packages/pandas/io/common.py\u001b[0m in \u001b[0;36mget_handle\u001b[0;34m(path_or_buf, mode, encoding, compression, memory_map, is_text, errors, storage_options)\u001b[0m\n\u001b[1;32m    700\u001b[0m         \u001b[0;32mif\u001b[0m \u001b[0mioargs\u001b[0m\u001b[0;34m.\u001b[0m\u001b[0mencoding\u001b[0m \u001b[0;32mand\u001b[0m \u001b[0;34m\"b\"\u001b[0m \u001b[0;32mnot\u001b[0m \u001b[0;32min\u001b[0m \u001b[0mioargs\u001b[0m\u001b[0;34m.\u001b[0m\u001b[0mmode\u001b[0m\u001b[0;34m:\u001b[0m\u001b[0;34m\u001b[0m\u001b[0;34m\u001b[0m\u001b[0m\n\u001b[1;32m    701\u001b[0m             \u001b[0;31m# Encoding\u001b[0m\u001b[0;34m\u001b[0m\u001b[0;34m\u001b[0m\u001b[0;34m\u001b[0m\u001b[0m\n\u001b[0;32m--> 702\u001b[0;31m             handle = open(\n\u001b[0m\u001b[1;32m    703\u001b[0m                 \u001b[0mhandle\u001b[0m\u001b[0;34m,\u001b[0m\u001b[0;34m\u001b[0m\u001b[0;34m\u001b[0m\u001b[0m\n\u001b[1;32m    704\u001b[0m                 \u001b[0mioargs\u001b[0m\u001b[0;34m.\u001b[0m\u001b[0mmode\u001b[0m\u001b[0;34m,\u001b[0m\u001b[0;34m\u001b[0m\u001b[0;34m\u001b[0m\u001b[0m\n",
            "\u001b[0;31mFileNotFoundError\u001b[0m: [Errno 2] No such file or directory: 'airline/Air France.csv'"
          ]
        }
      ]
    },
    {
      "cell_type": "code",
      "source": [
        "for i in range(1,10):\n",
        "    url=f'https://www.airlinequality.com/airline-reviews/british-airways/page/{i}/'\n",
        "    page=rq.get(url).text\n",
        "    soup=BeautifulSoup(page,'lxml')\n",
        "    articles= soup.find_all('article',{'itemprop':'review'})\n",
        "    for article in articles:\n",
        "        rating.append(fetcher(article,'span','itemprop','ratingValue'))\n",
        "        div=article.find('div',class_='tc_mobile')\n",
        "        content=(div.find('div',class_='text_content').text.split('|'))\n",
        "        if len(content)==2:\n",
        "            verification,review=content\n",
        "        else:\n",
        "            verification =np.nan\n",
        "            review=content[0]\n",
        "        verified.append(verification)\n",
        "        feedback.append(review)\n",
        "        table=div.find('table',class_='review-ratings')\n",
        "        value_fetcher(table)\n",
        "\n",
        "data_ba=pd.DataFrame({'status':verified,'aircraft':Aircraft,'travel_type':Travel_type,'travel_class':Class,'route':Route,'date':Date,'seating_comfort':comfort,'staff_service':staff,'food_quality':food,'entertainment':entertainment,'wifi':wifi,'ground_service':ground_service,'value_for_money':vfm,'recommended':recommend,'overall_rating':rating[::2],'review':feedback})\n",
        "data_ba.to_csv('airline/British Airways.csv',index=False)"
      ],
      "metadata": {
        "id": "9Hcr8BbwcxyC"
      },
      "execution_count": null,
      "outputs": []
    },
    {
      "cell_type": "code",
      "source": [
        "for i in range(1,10):\n",
        "    url=f'https://www.airlinequality.com/airline-reviews/lufthansa/page/{i}/'\n",
        "    page=rq.get(url).text\n",
        "    soup=BeautifulSoup(page,'lxml')\n",
        "    articles= soup.find_all('article',{'itemprop':'review'})\n",
        "    for article in articles:\n",
        "        rating.append(fetcher(article,'span','itemprop','ratingValue'))\n",
        "        div=article.find('div',class_='tc_mobile')\n",
        "        content=(div.find('div',class_='text_content').text.split('|'))\n",
        "        if len(content)==2:\n",
        "            verification,review=content\n",
        "        else:\n",
        "            verification =np.nan\n",
        "            review=content[0]\n",
        "        verified.append(verification)\n",
        "        feedback.append(review)\n",
        "        table=div.find('table',class_='review-ratings')\n",
        "        value_fetcher(table)\n",
        "\n",
        "data_luf=pd.DataFrame({'status':verified,'aircraft':Aircraft,'travel_type':Travel_type,'travel_class':Class,'route':Route,'date':Date,'seating_comfort':comfort,'staff_service':staff,'food_quality':food,'entertainment':entertainment,'wifi':wifi,'ground_service':ground_service,'value_for_money':vfm,'recommended':recommend,'overall_rating':rating[::2],'review':feedback})\n",
        "data_luf.to_csv('airline/Lufthansa.csv',index=False)"
      ],
      "metadata": {
        "id": "oKpsxdVXcx2U"
      },
      "execution_count": null,
      "outputs": []
    },
    {
      "cell_type": "code",
      "source": [
        "for i in range(1,10):\n",
        "    url=f'https://www.airlinequality.com/airline-reviews/ryanair/page/{i}/'\n",
        "    page=rq.get(url).text\n",
        "    soup=BeautifulSoup(page,'lxml')\n",
        "    articles= soup.find_all('article',{'itemprop':'review'})\n",
        "    for article in articles:\n",
        "        rating.append(fetcher(article,'span','itemprop','ratingValue'))\n",
        "        div=article.find('div',class_='tc_mobile')\n",
        "        content=(div.find('div',class_='text_content').text.split('|'))\n",
        "        if len(content)==2:\n",
        "            verification,review=content\n",
        "        else:\n",
        "            verification =np.nan\n",
        "            review=content[0]\n",
        "        verified.append(verification)\n",
        "        feedback.append(review)\n",
        "        table=div.find('table',class_='review-ratings')\n",
        "        value_fetcher(table)\n",
        "\n",
        "data_ra=pd.DataFrame({'status':verified,'aircraft':Aircraft,'travel_type':Travel_type,'travel_class':Class,'route':Route,'date':Date,'seating_comfort':comfort,'staff_service':staff,'food_quality':food,'entertainment':entertainment,'wifi':wifi,'ground_service':ground_service,'value_for_money':vfm,'recommended':recommend,'overall_rating':rating[::2],'review':feedback})\n",
        "data_ra.to_csv('airline/Ryanair.csv',index=False)"
      ],
      "metadata": {
        "id": "-ey4OQsJcx70"
      },
      "execution_count": null,
      "outputs": []
    },
    {
      "cell_type": "code",
      "source": [
        "frames = [data_af, data_ba, data_luf, data_ra]\n",
        "df = pd.concat(frames)\n",
        "df.head()"
      ],
      "metadata": {
        "id": "7bXe_19geBjA"
      },
      "execution_count": null,
      "outputs": []
    },
    {
      "cell_type": "markdown",
      "source": [
        "##### **References**\n",
        "<a id=\"1\">[1]</a> \n",
        "Code reference for webscraping: https://www.kaggle.com/code/minnikeswarrao/web-scraping-on-skytrax-com \n"
      ],
      "metadata": {
        "id": "pzONPl03rfVg"
      }
    },
    {
      "cell_type": "code",
      "source": [],
      "metadata": {
        "id": "ktSmf71urmt_"
      },
      "execution_count": null,
      "outputs": []
    }
  ]
}